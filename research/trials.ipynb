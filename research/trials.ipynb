{
 "cells": [
  {
   "cell_type": "code",
   "execution_count": 1,
   "metadata": {},
   "outputs": [],
   "source": [
    "import os"
   ]
  },
  {
   "cell_type": "code",
   "execution_count": 2,
   "metadata": {},
   "outputs": [],
   "source": [
    "os.chdir(\"..\")"
   ]
  },
  {
   "cell_type": "code",
   "execution_count": 3,
   "metadata": {},
   "outputs": [
    {
     "data": {
      "text/plain": [
       "'g:\\\\Shivansh\\\\iNeuron\\\\Projects\\\\My Projects\\\\Quora_dvc'"
      ]
     },
     "execution_count": 3,
     "metadata": {},
     "output_type": "execute_result"
    }
   ],
   "source": [
    "os.getcwd()"
   ]
  },
  {
   "cell_type": "code",
   "execution_count": 13,
   "metadata": {},
   "outputs": [],
   "source": [
    "from src.Quora_App.utils import read_yaml\n",
    "import os\n",
    "from pathlib import Path\n",
    "from Quora_App.constants import *"
   ]
  },
  {
   "cell_type": "code",
   "execution_count": 8,
   "metadata": {},
   "outputs": [],
   "source": [
    "from Quora_App.config.configuration import Configuration"
   ]
  },
  {
   "cell_type": "code",
   "execution_count": 14,
   "metadata": {},
   "outputs": [],
   "source": [
    "config_path = Path(\"./config/config.yaml\")"
   ]
  },
  {
   "cell_type": "code",
   "execution_count": 19,
   "metadata": {},
   "outputs": [],
   "source": [
    "config= read_yaml(config_path)"
   ]
  },
  {
   "cell_type": "code",
   "execution_count": 20,
   "metadata": {},
   "outputs": [],
   "source": [
    "data_ingestion_config= config.data_ingestion_config\n",
    "training_pipeline_config= config.training_pipeline_config"
   ]
  },
  {
   "cell_type": "code",
   "execution_count": 21,
   "metadata": {},
   "outputs": [],
   "source": [
    "artifact_dir = Path(ROOT_DIR, \n",
    "                    training_pipeline_config.pipeline_name,\n",
    "                    training_pipeline_config.artifact_dir)"
   ]
  },
  {
   "cell_type": "code",
   "execution_count": 22,
   "metadata": {},
   "outputs": [
    {
     "data": {
      "text/plain": [
       "WindowsPath('g:/Shivansh/iNeuron/Projects/My Projects/Quora_dvc/Quora_Artifacts/artifacts')"
      ]
     },
     "execution_count": 22,
     "metadata": {},
     "output_type": "execute_result"
    }
   ],
   "source": [
    "artifact_dir"
   ]
  },
  {
   "cell_type": "code",
   "execution_count": 23,
   "metadata": {},
   "outputs": [],
   "source": [
    "data_ingestion_info = config.data_ingestion_config\n",
    "data_ingestion_artifact_dir = Path(artifact_dir,\n",
    "                                    DATA_INGESTION_ARTIFACT_DIR_KEY)\n",
    "\n",
    "\n",
    "download_url=data_ingestion_info.download_url\n",
    "\n",
    "zipped_download_dir= Path(data_ingestion_artifact_dir,\n",
    "                            data_ingestion_info.zipped_download_dir)\n",
    "\n",
    "raw_data_dir= Path(data_ingestion_artifact_dir,\n",
    "                    data_ingestion_info.raw_data_dir)"
   ]
  },
  {
   "cell_type": "code",
   "execution_count": 24,
   "metadata": {},
   "outputs": [
    {
     "data": {
      "text/plain": [
       "WindowsPath('g:/Shivansh/iNeuron/Projects/My Projects/Quora_dvc/Quora_Artifacts/artifacts/data_ingestion/zipped_data')"
      ]
     },
     "execution_count": 24,
     "metadata": {},
     "output_type": "execute_result"
    }
   ],
   "source": [
    "zipped_download_dir"
   ]
  },
  {
   "cell_type": "code",
   "execution_count": null,
   "metadata": {},
   "outputs": [],
   "source": []
  }
 ],
 "metadata": {
  "kernelspec": {
   "display_name": "Python 3",
   "language": "python",
   "name": "python3"
  },
  "language_info": {
   "codemirror_mode": {
    "name": "ipython",
    "version": 3
   },
   "file_extension": ".py",
   "mimetype": "text/x-python",
   "name": "python",
   "nbconvert_exporter": "python",
   "pygments_lexer": "ipython3",
   "version": "3.8.16"
  },
  "orig_nbformat": 4,
  "vscode": {
   "interpreter": {
    "hash": "3d5c5198b4308cad6030afb01925159c6804b126b09f69eebcdfffb43892f78a"
   }
  }
 },
 "nbformat": 4,
 "nbformat_minor": 2
}
